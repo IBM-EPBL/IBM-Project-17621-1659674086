{
  "nbformat": 4,
  "nbformat_minor": 0,
  "metadata": {
    "colab": {
      "provenance": []
    },
    "kernelspec": {
      "name": "python3",
      "display_name": "Python 3"
    },
    "language_info": {
      "name": "python"
    }
  },
  "cells": [
    {
      "cell_type": "code",
      "execution_count": null,
      "metadata": {
        "id": "SLtSaq89H0Dg"
      },
      "outputs": [],
      "source": [
        "from flask import Flask, render_template\n",
        "app = Flask(__name__)\n",
        "\n",
        "@app.route('/')\n",
        "def index():\n",
        "    return render_template('index.html')\n",
        "\n",
        "@app.route('/Demo2')\n",
        "def demo2():\n",
        "    return render_template('Demo2.html')\n",
        "\n",
        "@app.route('/chance')\n",
        "def chance():\n",
        "    return render_template('chance.html')\n",
        "\n",
        "@app.route('/noChance')\n",
        "def noChance():\n",
        "    return render_template('noChance.html')\n",
        "\n",
        "\n",
        "if __name__ == \"__main__\":\n",
        "    app.run()"
      ]
    }
  ]
}