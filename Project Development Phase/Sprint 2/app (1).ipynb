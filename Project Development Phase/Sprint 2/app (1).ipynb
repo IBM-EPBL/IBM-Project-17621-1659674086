{
  "nbformat": 4,
  "nbformat_minor": 0,
  "metadata": {
    "colab": {
      "provenance": []
    },
    "kernelspec": {
      "name": "python3",
      "display_name": "Python 3"
    },
    "language_info": {
      "name": "python"
    }
  },
  "cells": [
    {
      "cell_type": "code",
      "execution_count": null,
      "metadata": {
        "id": "SLtSaq89H0Dg"
      },
      "outputs": [],
      "source": [
        "from flask import Flask, render_template, request\n",
        "import requests\n",
        "\n",
        "\n",
        "API_KEY = \"dAkQTmsJ7sfRzutZ8fTcNbHZvKD_ZyoxqjtYF7h8VwC7\"\n",
        "token_response = requests.post('https://iam.cloud.ibm.com/identity/token', data={\"apikey\": API_KEY, \"grant_type\": 'urn:ibm:params:oauth:grant-type:apikey'})\n",
        "mltoken = token_response.json()[\"access_token\"]\n",
        "header = {'Content-Type': 'application/json', 'Authorization': 'Bearer ' + mltoken}\n",
        "\n",
        "app = Flask(__name__, static_url_path='')\n",
        "@app.route('/')\n",
        "def index():\n",
        "    return render_template('index.html')\n",
        "\n",
        "@app.route('/checkEligibility')\n",
        "def checkEligibility():\n",
        "    return render_template('Demo2.html')\n",
        "\n",
        "@app.route('/predict', methods=['POST'])\n",
        "def predict():\n",
        "    greScore = int(request.form['greScore'])\n",
        "    toeflScore = int(request.form['toeflScore'])\n",
        "    univRank = int(request.form['univRank'])\n",
        "    sop = float(request.form['sop'])\n",
        "    lor = float(request.form['lor'])\n",
        "    cgpa = float(request.form['cgpa'])\n",
        "    research = int(request.form['research'])\n",
        "    array_of_input_fields = ['greScore', 'toeflScore', 'univRank', 'sop', 'lor', 'cgpa', 'research']\n",
        "    array_of_values_to_be_scored = [greScore, toeflScore, univRank, sop, lor, cgpa, research]\n",
        "    payload_scoring = {\"input_data\": [{\"fields\": [array_of_input_fields], \"values\": [array_of_values_to_be_scored]}]}\n",
        "    response_scoring = requests.post('https://us-south.ml.cloud.ibm.com/ml/v4/deployments/9f4939ed-7f21-4881-8ae4-234e7515f65a/predictions?version=2022-10-21', json=payload_scoring, headers={'Authorization': 'Bearer ' + mltoken})\n",
        "    predictions = response_scoring.json()\n",
        "    prediction = predictions['predictions'][0]['values'][0][0]\n",
        "    \n",
        "    if prediction:\n",
        "        return render_template('chance.html')\n",
        "    else:\n",
        "        return render_template('noChance.html')\n",
        "\n",
        "\n",
        "if __name__ == \"__main__\":\n",
        "    app.run()"
      ]
    }
  ]
}